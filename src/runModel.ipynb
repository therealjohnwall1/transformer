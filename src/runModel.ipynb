{
 "cells": [
  {
   "cell_type": "code",
   "execution_count": 1,
   "metadata": {},
   "outputs": [],
   "source": [
    "import torch\n",
    "import torch.nn as nn\n",
    "import tiktoken\n",
    "from torchinfo import summary\n",
    "import torch.nn.functional as F"
   ]
  },
  {
   "cell_type": "code",
   "execution_count": 3,
   "metadata": {},
   "outputs": [],
   "source": [
    "from transformer import SelfAttention, GPTConfig, GPT \n"
   ]
  },
  {
   "cell_type": "code",
   "execution_count": 4,
   "metadata": {},
   "outputs": [],
   "source": [
    "path = \"../trainingRuns/wikiRun.pth\"\n",
    "# first run, base on wiki\n",
    "\n",
    "former = GPT(GPTConfig(vocab_size=50304))\n",
    "weights = torch.load(path)"
   ]
  },
  {
   "cell_type": "code",
   "execution_count": 5,
   "metadata": {},
   "outputs": [
    {
     "data": {
      "text/plain": [
       "=================================================================\n",
       "Layer (type:depth-idx)                   Param #\n",
       "=================================================================\n",
       "GPT                                      --\n",
       "├─ModuleDict: 1-1                        --\n",
       "│    └─Embedding: 2-1                    38,633,472\n",
       "│    └─Embedding: 2-2                    786,432\n",
       "│    └─ModuleList: 2-3                   --\n",
       "│    │    └─Block: 3-1                   7,087,872\n",
       "│    │    └─Block: 3-2                   7,087,872\n",
       "│    │    └─Block: 3-3                   7,087,872\n",
       "│    │    └─Block: 3-4                   7,087,872\n",
       "│    │    └─Block: 3-5                   7,087,872\n",
       "│    │    └─Block: 3-6                   7,087,872\n",
       "│    │    └─Block: 3-7                   7,087,872\n",
       "│    │    └─Block: 3-8                   7,087,872\n",
       "│    │    └─Block: 3-9                   7,087,872\n",
       "│    │    └─Block: 3-10                  7,087,872\n",
       "│    │    └─Block: 3-11                  7,087,872\n",
       "│    │    └─Block: 3-12                  7,087,872\n",
       "│    └─LayerNorm: 2-4                    1,536\n",
       "├─Linear: 1-2                            38,633,472\n",
       "=================================================================\n",
       "Total params: 163,109,376\n",
       "Trainable params: 163,109,376\n",
       "Non-trainable params: 0\n",
       "================================================================="
      ]
     },
     "execution_count": 5,
     "metadata": {},
     "output_type": "execute_result"
    }
   ],
   "source": [
    "summary(model=former)"
   ]
  },
  {
   "cell_type": "code",
   "execution_count": 6,
   "metadata": {},
   "outputs": [
    {
     "data": {
      "text/plain": [
       "<All keys matched successfully>"
      ]
     },
     "execution_count": 6,
     "metadata": {},
     "output_type": "execute_result"
    }
   ],
   "source": [
    "# load state/weights now\n",
    "\n",
    "former.load_state_dict(weights)"
   ]
  },
  {
   "cell_type": "code",
   "execution_count": 7,
   "metadata": {},
   "outputs": [],
   "source": [
    "enc = tiktoken.get_encoding('gpt2')\n",
    "device = 'cpu'\n",
    "if torch.cuda.is_available():\n",
    "    device = 'cuda'"
   ]
  },
  {
   "cell_type": "code",
   "execution_count": 8,
   "metadata": {},
   "outputs": [],
   "source": [
    "#sample from model\n",
    "former.eval()\n",
    "tokens = enc.encode(\"Hello I am a\")\n",
    "tokens = torch.tensor(tokens, dtype=torch.long)\n",
    "former = former.to(device)"
   ]
  },
  {
   "cell_type": "code",
   "execution_count": 9,
   "metadata": {},
   "outputs": [
    {
     "data": {
      "text/plain": [
       "torch.Size([5, 4])"
      ]
     },
     "execution_count": 9,
     "metadata": {},
     "output_type": "execute_result"
    }
   ],
   "source": [
    "# batch/responses = 10, generate 10 different responses based on sampling\n",
    "tokens = tokens.unsqueeze(0).repeat(5,1) # 5 tokens -> 5 responses, 8 tokens each\n",
    "x = tokens.to(device)\n",
    "x.shape"
   ]
  },
  {
   "cell_type": "code",
   "execution_count": 11,
   "metadata": {},
   "outputs": [
    {
     "name": "stdout",
     "output_type": "stream",
     "text": [
      "> Hello I am a speak\n",
      "> Hello I am a problem\n",
      "> Hello I am a table\n",
      "> Hello I am a maintain\n",
      "> Hello I am a re\n",
      "> Hello I am a speak)\n",
      "> Hello I am a problem Lloyd\n",
      "> Hello I am a table ant\n",
      "> Hello I am a maintain making\n",
      "> Hello I am a re Directors\n",
      "> Hello I am a speak) Corps\n",
      "> Hello I am a problem Lloyd Lloyd\n",
      "> Hello I am a table ant problem\n",
      "> Hello I am a maintain making speak\n",
      "> Hello I am a re Directors here\n",
      "> Hello I am a speak) Corps expression\n",
      "> Hello I am a problem Lloyd Lloyd making\n",
      "> Hello I am a table ant problem re\n",
      "> Hello I am a maintain making speak Corps\n",
      "> Hello I am a re Directors here this\n",
      "> Hello I am a speak) Corps expression speak\n",
      "> Hello I am a problem Lloyd Lloyd making making\n",
      "> Hello I am a table ant problem re making\n",
      "> Hello I am a maintain making speak Corps Directors\n",
      "> Hello I am a re Directors here this re\n",
      "> Hello I am a speak) Corps expression speak Tony\n",
      "> Hello I am a problem Lloyd Lloyd making making making\n",
      "> Hello I am a table ant problem re makingario\n",
      "> Hello I am a maintain making speak Corps Directors of\n",
      "> Hello I am a re Directors here this re Lloyd\n"
     ]
    }
   ],
   "source": [
    "max_len = 10\n",
    "while x.size(1) < max_len:\n",
    "    with torch.no_grad():\n",
    "        logits,loss = former(x) \n",
    "\n",
    "        # only get last location logits\n",
    "        logits= logits[:, -1, :]\n",
    "\n",
    "        probs = F.softmax(logits,dim=1)\n",
    "        \n",
    "        # top 50 samples(50 is default)\n",
    "        topk_probs, topk_indicies = torch.topk(probs, 50, dim=-1)\n",
    "\n",
    "        ix = torch.multinomial(topk_probs, 1)\n",
    "\n",
    "        xcol = torch.gather(topk_indicies, -1, ix)\n",
    "\n",
    "        x = torch.cat((x,xcol), dim=1)\n",
    "\n",
    "\n",
    "        # diff prompts\n",
    "        for i in range(5):\n",
    "            tokens = x[i, :max_len].tolist()\n",
    "            decoded = enc.decode(tokens)\n",
    "            print(\">\", decoded)\n",
    " "
   ]
  }
 ],
 "metadata": {
  "kernelspec": {
   "display_name": "Python 3",
   "language": "python",
   "name": "python3"
  },
  "language_info": {
   "codemirror_mode": {
    "name": "ipython",
    "version": 3
   },
   "file_extension": ".py",
   "mimetype": "text/x-python",
   "name": "python",
   "nbconvert_exporter": "python",
   "pygments_lexer": "ipython3",
   "version": "3.10.12"
  }
 },
 "nbformat": 4,
 "nbformat_minor": 2
}
